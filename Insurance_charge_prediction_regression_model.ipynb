{
 "cells": [
  {
   "cell_type": "code",
   "execution_count": 1,
   "id": "8e62cd43",
   "metadata": {},
   "outputs": [],
   "source": [
    "import pandas as pd\n",
    "import numpy as np\n",
    "import matplotlib.pyplot as plt\n",
    "import seaborn as sns"
   ]
  },
  {
   "cell_type": "code",
   "execution_count": 2,
   "id": "6adde2bd",
   "metadata": {},
   "outputs": [
    {
     "data": {
      "text/html": [
       "<div>\n",
       "<style scoped>\n",
       "    .dataframe tbody tr th:only-of-type {\n",
       "        vertical-align: middle;\n",
       "    }\n",
       "\n",
       "    .dataframe tbody tr th {\n",
       "        vertical-align: top;\n",
       "    }\n",
       "\n",
       "    .dataframe thead th {\n",
       "        text-align: right;\n",
       "    }\n",
       "</style>\n",
       "<table border=\"1\" class=\"dataframe\">\n",
       "  <thead>\n",
       "    <tr style=\"text-align: right;\">\n",
       "      <th></th>\n",
       "      <th>age</th>\n",
       "      <th>sex</th>\n",
       "      <th>bmi</th>\n",
       "      <th>children</th>\n",
       "      <th>smoker</th>\n",
       "      <th>region</th>\n",
       "      <th>charges</th>\n",
       "    </tr>\n",
       "  </thead>\n",
       "  <tbody>\n",
       "    <tr>\n",
       "      <th>0</th>\n",
       "      <td>19</td>\n",
       "      <td>female</td>\n",
       "      <td>27.900</td>\n",
       "      <td>0</td>\n",
       "      <td>yes</td>\n",
       "      <td>southwest</td>\n",
       "      <td>16884.92400</td>\n",
       "    </tr>\n",
       "    <tr>\n",
       "      <th>1</th>\n",
       "      <td>18</td>\n",
       "      <td>male</td>\n",
       "      <td>33.770</td>\n",
       "      <td>1</td>\n",
       "      <td>no</td>\n",
       "      <td>southeast</td>\n",
       "      <td>1725.55230</td>\n",
       "    </tr>\n",
       "    <tr>\n",
       "      <th>2</th>\n",
       "      <td>28</td>\n",
       "      <td>male</td>\n",
       "      <td>33.000</td>\n",
       "      <td>3</td>\n",
       "      <td>no</td>\n",
       "      <td>southeast</td>\n",
       "      <td>4449.46200</td>\n",
       "    </tr>\n",
       "    <tr>\n",
       "      <th>3</th>\n",
       "      <td>33</td>\n",
       "      <td>male</td>\n",
       "      <td>22.705</td>\n",
       "      <td>0</td>\n",
       "      <td>no</td>\n",
       "      <td>northwest</td>\n",
       "      <td>21984.47061</td>\n",
       "    </tr>\n",
       "    <tr>\n",
       "      <th>4</th>\n",
       "      <td>32</td>\n",
       "      <td>male</td>\n",
       "      <td>28.880</td>\n",
       "      <td>0</td>\n",
       "      <td>no</td>\n",
       "      <td>northwest</td>\n",
       "      <td>3866.85520</td>\n",
       "    </tr>\n",
       "    <tr>\n",
       "      <th>5</th>\n",
       "      <td>31</td>\n",
       "      <td>female</td>\n",
       "      <td>25.740</td>\n",
       "      <td>0</td>\n",
       "      <td>no</td>\n",
       "      <td>southeast</td>\n",
       "      <td>3756.62160</td>\n",
       "    </tr>\n",
       "    <tr>\n",
       "      <th>6</th>\n",
       "      <td>46</td>\n",
       "      <td>female</td>\n",
       "      <td>33.440</td>\n",
       "      <td>1</td>\n",
       "      <td>no</td>\n",
       "      <td>southeast</td>\n",
       "      <td>8240.58960</td>\n",
       "    </tr>\n",
       "    <tr>\n",
       "      <th>7</th>\n",
       "      <td>37</td>\n",
       "      <td>female</td>\n",
       "      <td>27.740</td>\n",
       "      <td>3</td>\n",
       "      <td>no</td>\n",
       "      <td>northwest</td>\n",
       "      <td>7281.50560</td>\n",
       "    </tr>\n",
       "    <tr>\n",
       "      <th>8</th>\n",
       "      <td>37</td>\n",
       "      <td>male</td>\n",
       "      <td>29.830</td>\n",
       "      <td>2</td>\n",
       "      <td>no</td>\n",
       "      <td>northeast</td>\n",
       "      <td>6406.41070</td>\n",
       "    </tr>\n",
       "    <tr>\n",
       "      <th>9</th>\n",
       "      <td>60</td>\n",
       "      <td>female</td>\n",
       "      <td>25.840</td>\n",
       "      <td>0</td>\n",
       "      <td>no</td>\n",
       "      <td>northwest</td>\n",
       "      <td>28923.13692</td>\n",
       "    </tr>\n",
       "  </tbody>\n",
       "</table>\n",
       "</div>"
      ],
      "text/plain": [
       "   age     sex     bmi  children smoker     region      charges\n",
       "0   19  female  27.900         0    yes  southwest  16884.92400\n",
       "1   18    male  33.770         1     no  southeast   1725.55230\n",
       "2   28    male  33.000         3     no  southeast   4449.46200\n",
       "3   33    male  22.705         0     no  northwest  21984.47061\n",
       "4   32    male  28.880         0     no  northwest   3866.85520\n",
       "5   31  female  25.740         0     no  southeast   3756.62160\n",
       "6   46  female  33.440         1     no  southeast   8240.58960\n",
       "7   37  female  27.740         3     no  northwest   7281.50560\n",
       "8   37    male  29.830         2     no  northeast   6406.41070\n",
       "9   60  female  25.840         0     no  northwest  28923.13692"
      ]
     },
     "execution_count": 2,
     "metadata": {},
     "output_type": "execute_result"
    }
   ],
   "source": [
    "df =pd.read_csv(\"insurance.csv\")\n",
    "df.head(10)"
   ]
  },
  {
   "cell_type": "markdown",
   "id": "f11356cd",
   "metadata": {},
   "source": [
    "## Data Preprocessing"
   ]
  },
  {
   "cell_type": "code",
   "execution_count": 3,
   "id": "2e9b915d",
   "metadata": {},
   "outputs": [
    {
     "data": {
      "text/plain": [
       "Index(['age', 'sex', 'bmi', 'children', 'smoker', 'region', 'charges'], dtype='object')"
      ]
     },
     "execution_count": 3,
     "metadata": {},
     "output_type": "execute_result"
    }
   ],
   "source": [
    "df.columns"
   ]
  },
  {
   "cell_type": "code",
   "execution_count": 4,
   "id": "d930270a",
   "metadata": {},
   "outputs": [
    {
     "data": {
      "text/plain": [
       "(1338, 7)"
      ]
     },
     "execution_count": 4,
     "metadata": {},
     "output_type": "execute_result"
    }
   ],
   "source": [
    "df.shape"
   ]
  },
  {
   "cell_type": "markdown",
   "id": "bd23dbd6",
   "metadata": {},
   "source": [
    "#### Handling Null values"
   ]
  },
  {
   "cell_type": "code",
   "execution_count": 5,
   "id": "ba84a6e7",
   "metadata": {},
   "outputs": [
    {
     "data": {
      "text/plain": [
       "age         0\n",
       "sex         0\n",
       "bmi         0\n",
       "children    0\n",
       "smoker      0\n",
       "region      0\n",
       "charges     0\n",
       "dtype: int64"
      ]
     },
     "execution_count": 5,
     "metadata": {},
     "output_type": "execute_result"
    }
   ],
   "source": [
    "\n",
    "df.isnull().sum()"
   ]
  },
  {
   "cell_type": "code",
   "execution_count": 6,
   "id": "386dce14",
   "metadata": {},
   "outputs": [
    {
     "data": {
      "text/plain": [
       "Series([], dtype: int64)"
      ]
     },
     "execution_count": 6,
     "metadata": {},
     "output_type": "execute_result"
    }
   ],
   "source": [
    "nu=df.isnull().sum()\n",
    "nu_v=nu[nu>0]\n",
    "nu_v"
   ]
  },
  {
   "cell_type": "markdown",
   "id": "5ce66b99",
   "metadata": {},
   "source": [
    "#### Handling Duplicates value"
   ]
  },
  {
   "cell_type": "code",
   "execution_count": 7,
   "id": "ebac4947",
   "metadata": {},
   "outputs": [
    {
     "data": {
      "text/plain": [
       "1"
      ]
     },
     "execution_count": 7,
     "metadata": {},
     "output_type": "execute_result"
    }
   ],
   "source": [
    "df.duplicated().sum()"
   ]
  },
  {
   "cell_type": "code",
   "execution_count": 8,
   "id": "6d020c3c",
   "metadata": {},
   "outputs": [],
   "source": [
    "df.drop_duplicates(inplace=True)"
   ]
  },
  {
   "cell_type": "code",
   "execution_count": 9,
   "id": "145be65c",
   "metadata": {},
   "outputs": [
    {
     "data": {
      "text/plain": [
       "0"
      ]
     },
     "execution_count": 9,
     "metadata": {},
     "output_type": "execute_result"
    }
   ],
   "source": [
    "df.duplicated().sum()"
   ]
  },
  {
   "cell_type": "markdown",
   "id": "19abbd7a",
   "metadata": {},
   "source": [
    "#### Select Numerical and categorical columns"
   ]
  },
  {
   "cell_type": "code",
   "execution_count": 10,
   "id": "0d7d6234",
   "metadata": {},
   "outputs": [
    {
     "name": "stdout",
     "output_type": "stream",
     "text": [
      "Index(['age', 'bmi', 'children', 'charges'], dtype='object')\n",
      "Index(['sex', 'smoker', 'region'], dtype='object')\n"
     ]
    }
   ],
   "source": [
    "\n",
    "num_cols=df.dtypes[df.dtypes!=object].index\n",
    "cat_cols=df.dtypes[df.dtypes==object].index\n",
    "print(num_cols)\n",
    "print(cat_cols)"
   ]
  },
  {
   "cell_type": "markdown",
   "id": "8fa8cdba",
   "metadata": {},
   "source": [
    "#### EDA"
   ]
  },
  {
   "cell_type": "code",
   "execution_count": 11,
   "id": "0e075a90",
   "metadata": {},
   "outputs": [
    {
     "data": {
      "image/png": "[encoded data removed]",
      "text/plain": [
       "<Figure size 1000x400 with 3 Axes>"
      ]
     },
     "metadata": {},
     "output_type": "display_data"
    }
   ],
   "source": [
    "plt.figure(figsize=(10,4))\n",
    "for i in range(len(cat_cols)):\n",
    "    plt.subplot(1,3,i+1)\n",
    "    sns.countplot(x=df[cat_cols[i]])\n",
    "    plt.title(f\" countplot for { cat_cols[i]}\")\n",
    "plt.xticks(rotation=45)\n",
    "plt.tight_layout()\n",
    "plt.show()"
   ]
  },
  {
   "cell_type": "code",
   "execution_count": 12,
   "id": "ac41e7b6",
   "metadata": {},
   "outputs": [
    {
     "data": {
      "image/png": "[encoded data removed]",
      "text/plain": [
       "<Figure size 1000x400 with 3 Axes>"
      ]
     },
     "metadata": {},
     "output_type": "display_data"
    }
   ],
   "source": [
    "plt.figure(figsize=(10,4))\n",
    "for i in range(len(cat_cols)):\n",
    "    plt.subplot(1,3,i+1)\n",
    "    sns.boxplot(x=df[cat_cols[i]],y=df['charges'])\n",
    "    plt.title(f\" boxplot for { cat_cols[i]}\")\n",
    "plt.xticks(rotation=45)\n",
    "plt.tight_layout()\n",
    "plt.show()"
   ]
  },
  {
   "cell_type": "code",
   "execution_count": 13,
   "id": "8b45a7a9",
   "metadata": {},
   "outputs": [
    {
     "data": {
      "image/png": "[encoded data removed]",
      "text/plain": [
       "<Figure size 1000x400 with 4 Axes>"
      ]
     },
     "metadata": {},
     "output_type": "display_data"
    }
   ],
   "source": [
    "plt.figure(figsize=(10,4))\n",
    "for i in range(len(num_cols)):\n",
    "    plt.subplot(2,2,i+1)\n",
    "    sns.kdeplot(x=df[num_cols[i]])\n",
    "    plt.title(f\" KDEplot for { num_cols[i]}\")\n",
    "plt.tight_layout()\n",
    "plt.show()"
   ]
  },
  {
   "cell_type": "code",
   "execution_count": 14,
   "id": "ab144c50",
   "metadata": {},
   "outputs": [
    {
     "data": {
      "image/png": "[encoded data removed]",
      "text/plain": [
       "<Figure size 1000x400 with 4 Axes>"
      ]
     },
     "metadata": {},
     "output_type": "display_data"
    }
   ],
   "source": [
    "plt.figure(figsize=(10,4))\n",
    "for i in range(len(num_cols)):\n",
    "    plt.subplot(2,2,i+1)\n",
    "    sns.histplot(x=df[num_cols[i]],kde=True,color='green')\n",
    "    plt.title(f\" histplot for { num_cols[i]}\")\n",
    "plt.tight_layout()\n",
    "plt.show()"
   ]
  },
  {
   "cell_type": "markdown",
   "id": "97138873",
   "metadata": {},
   "source": [
    "#### Correlation"
   ]
  },
  {
   "cell_type": "code",
   "execution_count": 15,
   "id": "99b71bfa",
   "metadata": {},
   "outputs": [
    {
     "data": {
      "image/png": "[encoded data removed]",
      "text/plain": [
       "<Figure size 1000x400 with 2 Axes>"
      ]
     },
     "metadata": {},
     "output_type": "display_data"
    }
   ],
   "source": [
    "corr=df[num_cols].corr()\n",
    "plt.figure(figsize=(10,4))\n",
    "sns.heatmap(corr,annot=True,cmap='RdBu')\n",
    "plt.show()\n"
   ]
  },
  {
   "cell_type": "markdown",
   "id": "a419c178",
   "metadata": {},
   "source": [
    "#### Outlier Analysis"
   ]
  },
  {
   "cell_type": "code",
   "execution_count": 16,
   "id": "c88c7474",
   "metadata": {},
   "outputs": [
    {
     "data": {
      "text/html": [
       "<div>\n",
       "<style scoped>\n",
       "    .dataframe tbody tr th:only-of-type {\n",
       "        vertical-align: middle;\n",
       "    }\n",
       "\n",
       "    .dataframe tbody tr th {\n",
       "        vertical-align: top;\n",
       "    }\n",
       "\n",
       "    .dataframe thead th {\n",
       "        text-align: right;\n",
       "    }\n",
       "</style>\n",
       "<table border=\"1\" class=\"dataframe\">\n",
       "  <thead>\n",
       "    <tr style=\"text-align: right;\">\n",
       "      <th></th>\n",
       "      <th>min</th>\n",
       "      <th>1%</th>\n",
       "      <th>2%</th>\n",
       "      <th>5%</th>\n",
       "      <th>50%</th>\n",
       "      <th>95%</th>\n",
       "      <th>98%</th>\n",
       "      <th>99%</th>\n",
       "      <th>max</th>\n",
       "    </tr>\n",
       "  </thead>\n",
       "  <tbody>\n",
       "    <tr>\n",
       "      <th>age</th>\n",
       "      <td>18.0000</td>\n",
       "      <td>18.00000</td>\n",
       "      <td>18.0000</td>\n",
       "      <td>18.00000</td>\n",
       "      <td>39.0000</td>\n",
       "      <td>62.0000</td>\n",
       "      <td>63.000000</td>\n",
       "      <td>64.000000</td>\n",
       "      <td>64.00000</td>\n",
       "    </tr>\n",
       "    <tr>\n",
       "      <th>bmi</th>\n",
       "      <td>15.9600</td>\n",
       "      <td>17.89420</td>\n",
       "      <td>19.2692</td>\n",
       "      <td>21.24800</td>\n",
       "      <td>30.4000</td>\n",
       "      <td>41.1080</td>\n",
       "      <td>43.920800</td>\n",
       "      <td>46.411200</td>\n",
       "      <td>53.13000</td>\n",
       "    </tr>\n",
       "    <tr>\n",
       "      <th>children</th>\n",
       "      <td>0.0000</td>\n",
       "      <td>0.00000</td>\n",
       "      <td>0.0000</td>\n",
       "      <td>0.00000</td>\n",
       "      <td>1.0000</td>\n",
       "      <td>3.0000</td>\n",
       "      <td>4.000000</td>\n",
       "      <td>5.000000</td>\n",
       "      <td>5.00000</td>\n",
       "    </tr>\n",
       "    <tr>\n",
       "      <th>charges</th>\n",
       "      <td>1121.8739</td>\n",
       "      <td>1252.95744</td>\n",
       "      <td>1621.7308</td>\n",
       "      <td>1767.49292</td>\n",
       "      <td>9386.1613</td>\n",
       "      <td>41210.0498</td>\n",
       "      <td>46677.324238</td>\n",
       "      <td>48537.796878</td>\n",
       "      <td>63770.42801</td>\n",
       "    </tr>\n",
       "  </tbody>\n",
       "</table>\n",
       "</div>"
      ],
      "text/plain": [
       "                min          1%         2%          5%        50%         95%   \n",
       "age         18.0000    18.00000    18.0000    18.00000    39.0000     62.0000  \\\n",
       "bmi         15.9600    17.89420    19.2692    21.24800    30.4000     41.1080   \n",
       "children     0.0000     0.00000     0.0000     0.00000     1.0000      3.0000   \n",
       "charges   1121.8739  1252.95744  1621.7308  1767.49292  9386.1613  41210.0498   \n",
       "\n",
       "                   98%           99%          max  \n",
       "age          63.000000     64.000000     64.00000  \n",
       "bmi          43.920800     46.411200     53.13000  \n",
       "children      4.000000      5.000000      5.00000  \n",
       "charges   46677.324238  48537.796878  63770.42801  "
      ]
     },
     "execution_count": 16,
     "metadata": {},
     "output_type": "execute_result"
    }
   ],
   "source": [
    "a= df[num_cols].describe(percentiles=[0.01,0.02,0.05,0.95,0.98,0.99]).T\n",
    "a=a.iloc[:,3:]\n",
    "a\n"
   ]
  },
  {
   "cell_type": "code",
   "execution_count": 17,
   "id": "80173f99",
   "metadata": {},
   "outputs": [
    {
     "data": {
      "text/plain": [
       "<bound method IndexOpsMixin.value_counts of 0       0\n",
       "1       1\n",
       "2       3\n",
       "3       0\n",
       "4       0\n",
       "       ..\n",
       "1333    3\n",
       "1334    0\n",
       "1335    0\n",
       "1336    0\n",
       "1337    0\n",
       "Name: children, Length: 1337, dtype: int64>"
      ]
     },
     "execution_count": 17,
     "metadata": {},
     "output_type": "execute_result"
    }
   ],
   "source": [
    "df['children'].value_counts"
   ]
  },
  {
   "cell_type": "code",
   "execution_count": 18,
   "id": "82cca261",
   "metadata": {},
   "outputs": [
    {
     "name": "stdout",
     "output_type": "stream",
     "text": [
      "(27, 7)\n",
      "(14, 7)\n"
     ]
    }
   ],
   "source": [
    "print(df[df['charges']>46676.189821].shape)\n",
    "print(df[df['charges']<1252.97273].shape)\n"
   ]
  },
  {
   "cell_type": "code",
   "execution_count": 19,
   "id": "daea5485",
   "metadata": {},
   "outputs": [],
   "source": [
    "df['charges']=np.where(df['charges']>46676.189821,46676,df['charges'])\n",
    "df['charges']=np.where(df['charges']< 1252.97273,1252.97273,df['charges'])\n"
   ]
  },
  {
   "cell_type": "markdown",
   "id": "d63880ab",
   "metadata": {},
   "source": [
    "#### Encoding categorical variable"
   ]
  },
  {
   "cell_type": "code",
   "execution_count": 20,
   "id": "b30759d4",
   "metadata": {},
   "outputs": [
    {
     "data": {
      "text/plain": [
       "sex\n",
       "male      675\n",
       "female    662\n",
       "Name: count, dtype: int64"
      ]
     },
     "execution_count": 20,
     "metadata": {},
     "output_type": "execute_result"
    }
   ],
   "source": [
    "df['sex'].value_counts()"
   ]
  },
  {
   "cell_type": "code",
   "execution_count": 21,
   "id": "3f4f3613",
   "metadata": {},
   "outputs": [
    {
     "data": {
      "text/plain": [
       "smoker\n",
       "no     1063\n",
       "yes     274\n",
       "Name: count, dtype: int64"
      ]
     },
     "execution_count": 21,
     "metadata": {},
     "output_type": "execute_result"
    }
   ],
   "source": [
    "df['smoker'].value_counts()"
   ]
  },
  {
   "cell_type": "code",
   "execution_count": 22,
   "id": "f0b105ac",
   "metadata": {},
   "outputs": [
    {
     "data": {
      "text/plain": [
       "region\n",
       "southeast    364\n",
       "southwest    325\n",
       "northwest    324\n",
       "northeast    324\n",
       "Name: count, dtype: int64"
      ]
     },
     "execution_count": 22,
     "metadata": {},
     "output_type": "execute_result"
    }
   ],
   "source": [
    "df['region'].value_counts()"
   ]
  },
  {
   "cell_type": "code",
   "execution_count": 23,
   "id": "83dc9eb3",
   "metadata": {},
   "outputs": [],
   "source": [
    "from sklearn.preprocessing import LabelEncoder"
   ]
  },
  {
   "cell_type": "code",
   "execution_count": 24,
   "id": "bd8cad5f",
   "metadata": {},
   "outputs": [],
   "source": [
    "lb=LabelEncoder()\n",
    "for i in ['sex','smoker']:\n",
    "    df[i]=lb.fit_transform(df[i])"
   ]
  },
  {
   "cell_type": "code",
   "execution_count": 25,
   "id": "27c56801",
   "metadata": {},
   "outputs": [
    {
     "data": {
      "text/plain": [
       "smoker\n",
       "0    1063\n",
       "1     274\n",
       "Name: count, dtype: int64"
      ]
     },
     "execution_count": 25,
     "metadata": {},
     "output_type": "execute_result"
    }
   ],
   "source": [
    "df['smoker'].value_counts()"
   ]
  },
  {
   "cell_type": "code",
   "execution_count": 26,
   "id": "77bd020d",
   "metadata": {},
   "outputs": [
    {
     "name": "stdout",
     "output_type": "stream",
     "text": [
      "(1337, 9)\n",
      "Index(['age', 'sex', 'bmi', 'children', 'smoker', 'charges',\n",
      "       'region_northwest', 'region_southeast', 'region_southwest'],\n",
      "      dtype='object')\n"
     ]
    }
   ],
   "source": [
    "df_dum=pd.get_dummies(data=df,columns=['region'],drop_first=True)\n",
    "print(df_dum.shape)\n",
    "print(df_dum.columns)"
   ]
  },
  {
   "cell_type": "markdown",
   "id": "82a316a1",
   "metadata": {},
   "source": [
    "#### Select x and y"
   ]
  },
  {
   "cell_type": "code",
   "execution_count": 27,
   "id": "4d8540db",
   "metadata": {},
   "outputs": [],
   "source": [
    "x=df_dum.drop('charges',axis=1)\n",
    "y=df_dum['charges']"
   ]
  },
  {
   "cell_type": "code",
   "execution_count": 28,
   "id": "f45e8f32",
   "metadata": {},
   "outputs": [],
   "source": [
    "from sklearn.model_selection import train_test_split"
   ]
  },
  {
   "cell_type": "code",
   "execution_count": 29,
   "id": "9741f3a8",
   "metadata": {},
   "outputs": [
    {
     "name": "stdout",
     "output_type": "stream",
     "text": [
      "(1002, 8)\n",
      "(335, 8)\n",
      "(1002,)\n",
      "(335,)\n"
     ]
    }
   ],
   "source": [
    "x_train,x_test,y_train,y_test=train_test_split(x,y,test_size=0.25,random_state=42)\n",
    "print(x_train.shape)\n",
    "print(x_test.shape)\n",
    "print(y_train.shape)\n",
    "print(y_test.shape)"
   ]
  },
  {
   "cell_type": "markdown",
   "id": "45764c18",
   "metadata": {},
   "source": [
    "#### Model Evaluations"
   ]
  },
  {
   "cell_type": "code",
   "execution_count": 30,
   "id": "e3d83d08",
   "metadata": {},
   "outputs": [],
   "source": [
    "from sklearn.metrics import mean_absolute_error,mean_squared_error"
   ]
  },
  {
   "cell_type": "code",
   "execution_count": 31,
   "id": "d31479c0",
   "metadata": {},
   "outputs": [],
   "source": [
    "def eval_model(model,x_train,y_train,x_test,y_test,mname):\n",
    "    model.fit(x_train,y_train)\n",
    "    y_pred=model.predict(x_test)\n",
    "    train_score=model.score(x_train,y_train)\n",
    "    test_score=model.score(x_test,y_test)\n",
    "    mae=mean_absolute_error(y_test,y_pred)\n",
    "    mse=mean_squared_error(y_test,y_pred)\n",
    "    rmse=np.sqrt(mse)\n",
    "    res=pd.DataFrame({'Train_score':train_score,'Test_score':test_score,'MAE':mae,'MSE':mse,'RMSE':rmse},index=[mname])\n",
    "    return res"
   ]
  },
  {
   "cell_type": "code",
   "execution_count": 32,
   "id": "fb876ae7",
   "metadata": {},
   "outputs": [],
   "source": [
    "from sklearn.linear_model import LinearRegression,Ridge,Lasso \n",
    "from sklearn.tree import DecisionTreeRegressor\n",
    "from sklearn.ensemble import RandomForestRegressor,AdaBoostRegressor\n",
    "from sklearn.neighbors import KNeighborsRegressor"
   ]
  },
  {
   "cell_type": "markdown",
   "id": "6acfeba7",
   "metadata": {},
   "source": [
    "#### Model Building"
   ]
  },
  {
   "cell_type": "code",
   "execution_count": 33,
   "id": "1a48250d",
   "metadata": {},
   "outputs": [
    {
     "data": {
      "text/html": [
       "<div>\n",
       "<style scoped>\n",
       "    .dataframe tbody tr th:only-of-type {\n",
       "        vertical-align: middle;\n",
       "    }\n",
       "\n",
       "    .dataframe tbody tr th {\n",
       "        vertical-align: top;\n",
       "    }\n",
       "\n",
       "    .dataframe thead th {\n",
       "        text-align: right;\n",
       "    }\n",
       "</style>\n",
       "<table border=\"1\" class=\"dataframe\">\n",
       "  <thead>\n",
       "    <tr style=\"text-align: right;\">\n",
       "      <th></th>\n",
       "      <th>Train_score</th>\n",
       "      <th>Test_score</th>\n",
       "      <th>MAE</th>\n",
       "      <th>MSE</th>\n",
       "      <th>RMSE</th>\n",
       "    </tr>\n",
       "  </thead>\n",
       "  <tbody>\n",
       "    <tr>\n",
       "      <th>Linear Regression</th>\n",
       "      <td>0.734834</td>\n",
       "      <td>0.808636</td>\n",
       "      <td>3917.704066</td>\n",
       "      <td>3.074808e+07</td>\n",
       "      <td>5545.094702</td>\n",
       "    </tr>\n",
       "  </tbody>\n",
       "</table>\n",
       "</div>"
      ],
      "text/plain": [
       "                   Train_score  Test_score          MAE           MSE   \n",
       "Linear Regression     0.734834    0.808636  3917.704066  3.074808e+07  \\\n",
       "\n",
       "                          RMSE  \n",
       "Linear Regression  5545.094702  "
      ]
     },
     "execution_count": 33,
     "metadata": {},
     "output_type": "execute_result"
    }
   ],
   "source": [
    "lr=LinearRegression()\n",
    "lr_res=eval_model(lr,x_train,y_train,x_test,y_test,'Linear Regression')\n",
    "lr_res"
   ]
  },
  {
   "cell_type": "code",
   "execution_count": 34,
   "id": "92e06edf",
   "metadata": {},
   "outputs": [
    {
     "data": {
      "text/html": [
       "<div>\n",
       "<style scoped>\n",
       "    .dataframe tbody tr th:only-of-type {\n",
       "        vertical-align: middle;\n",
       "    }\n",
       "\n",
       "    .dataframe tbody tr th {\n",
       "        vertical-align: top;\n",
       "    }\n",
       "\n",
       "    .dataframe thead th {\n",
       "        text-align: right;\n",
       "    }\n",
       "</style>\n",
       "<table border=\"1\" class=\"dataframe\">\n",
       "  <thead>\n",
       "    <tr style=\"text-align: right;\">\n",
       "      <th></th>\n",
       "      <th>Train_score</th>\n",
       "      <th>Test_score</th>\n",
       "      <th>MAE</th>\n",
       "      <th>MSE</th>\n",
       "      <th>RMSE</th>\n",
       "    </tr>\n",
       "  </thead>\n",
       "  <tbody>\n",
       "    <tr>\n",
       "      <th>Ridge</th>\n",
       "      <td>0.733738</td>\n",
       "      <td>0.802769</td>\n",
       "      <td>4028.522907</td>\n",
       "      <td>3.169067e+07</td>\n",
       "      <td>5629.446833</td>\n",
       "    </tr>\n",
       "  </tbody>\n",
       "</table>\n",
       "</div>"
      ],
      "text/plain": [
       "       Train_score  Test_score          MAE           MSE         RMSE\n",
       "Ridge     0.733738    0.802769  4028.522907  3.169067e+07  5629.446833"
      ]
     },
     "execution_count": 34,
     "metadata": {},
     "output_type": "execute_result"
    }
   ],
   "source": [
    "rid=Ridge(alpha=7)\n",
    "rid_res=eval_model(rid,x_train,y_train,x_test,y_test,'Ridge')\n",
    "rid_res\n"
   ]
  },
  {
   "cell_type": "code",
   "execution_count": 35,
   "id": "0622b2ed",
   "metadata": {},
   "outputs": [
    {
     "data": {
      "text/html": [
       "<div>\n",
       "<style scoped>\n",
       "    .dataframe tbody tr th:only-of-type {\n",
       "        vertical-align: middle;\n",
       "    }\n",
       "\n",
       "    .dataframe tbody tr th {\n",
       "        vertical-align: top;\n",
       "    }\n",
       "\n",
       "    .dataframe thead th {\n",
       "        text-align: right;\n",
       "    }\n",
       "</style>\n",
       "<table border=\"1\" class=\"dataframe\">\n",
       "  <thead>\n",
       "    <tr style=\"text-align: right;\">\n",
       "      <th></th>\n",
       "      <th>Train_score</th>\n",
       "      <th>Test_score</th>\n",
       "      <th>MAE</th>\n",
       "      <th>MSE</th>\n",
       "      <th>RMSE</th>\n",
       "    </tr>\n",
       "  </thead>\n",
       "  <tbody>\n",
       "    <tr>\n",
       "      <th>Lasso</th>\n",
       "      <td>0.734812</td>\n",
       "      <td>0.808162</td>\n",
       "      <td>3921.273376</td>\n",
       "      <td>3.082420e+07</td>\n",
       "      <td>5551.955041</td>\n",
       "    </tr>\n",
       "  </tbody>\n",
       "</table>\n",
       "</div>"
      ],
      "text/plain": [
       "       Train_score  Test_score          MAE           MSE         RMSE\n",
       "Lasso     0.734812    0.808162  3921.273376  3.082420e+07  5551.955041"
      ]
     },
     "execution_count": 35,
     "metadata": {},
     "output_type": "execute_result"
    }
   ],
   "source": [
    "las=Lasso(alpha=7)\n",
    "las_res=eval_model(las,x_train,y_train,x_test,y_test,'Lasso')\n",
    "las_res\n"
   ]
  },
  {
   "cell_type": "code",
   "execution_count": 36,
   "id": "28c95781",
   "metadata": {},
   "outputs": [
    {
     "data": {
      "text/html": [
       "<div>\n",
       "<style scoped>\n",
       "    .dataframe tbody tr th:only-of-type {\n",
       "        vertical-align: middle;\n",
       "    }\n",
       "\n",
       "    .dataframe tbody tr th {\n",
       "        vertical-align: top;\n",
       "    }\n",
       "\n",
       "    .dataframe thead th {\n",
       "        text-align: right;\n",
       "    }\n",
       "</style>\n",
       "<table border=\"1\" class=\"dataframe\">\n",
       "  <thead>\n",
       "    <tr style=\"text-align: right;\">\n",
       "      <th></th>\n",
       "      <th>Train_score</th>\n",
       "      <th>Test_score</th>\n",
       "      <th>MAE</th>\n",
       "      <th>MSE</th>\n",
       "      <th>RMSE</th>\n",
       "    </tr>\n",
       "  </thead>\n",
       "  <tbody>\n",
       "    <tr>\n",
       "      <th>Decision Tree</th>\n",
       "      <td>0.888837</td>\n",
       "      <td>0.854613</td>\n",
       "      <td>2737.093416</td>\n",
       "      <td>2.336052e+07</td>\n",
       "      <td>4833.271848</td>\n",
       "    </tr>\n",
       "  </tbody>\n",
       "</table>\n",
       "</div>"
      ],
      "text/plain": [
       "               Train_score  Test_score          MAE           MSE         RMSE\n",
       "Decision Tree     0.888837    0.854613  2737.093416  2.336052e+07  4833.271848"
      ]
     },
     "execution_count": 36,
     "metadata": {},
     "output_type": "execute_result"
    }
   ],
   "source": [
    "dt=DecisionTreeRegressor(max_depth=7,min_samples_split=22,random_state=30)\n",
    "dt_res=eval_model(dt,x_train,y_train,x_test,y_test,'Decision Tree')\n",
    "dt_res\n"
   ]
  },
  {
   "cell_type": "code",
   "execution_count": 37,
   "id": "18b5e0da",
   "metadata": {},
   "outputs": [
    {
     "data": {
      "text/html": [
       "<div>\n",
       "<style scoped>\n",
       "    .dataframe tbody tr th:only-of-type {\n",
       "        vertical-align: middle;\n",
       "    }\n",
       "\n",
       "    .dataframe tbody tr th {\n",
       "        vertical-align: top;\n",
       "    }\n",
       "\n",
       "    .dataframe thead th {\n",
       "        text-align: right;\n",
       "    }\n",
       "</style>\n",
       "<table border=\"1\" class=\"dataframe\">\n",
       "  <thead>\n",
       "    <tr style=\"text-align: right;\">\n",
       "      <th></th>\n",
       "      <th>Train_score</th>\n",
       "      <th>Test_score</th>\n",
       "      <th>MAE</th>\n",
       "      <th>MSE</th>\n",
       "      <th>RMSE</th>\n",
       "    </tr>\n",
       "  </thead>\n",
       "  <tbody>\n",
       "    <tr>\n",
       "      <th>Random Forest</th>\n",
       "      <td>0.888801</td>\n",
       "      <td>0.888807</td>\n",
       "      <td>2428.323985</td>\n",
       "      <td>1.786634e+07</td>\n",
       "      <td>4226.859529</td>\n",
       "    </tr>\n",
       "  </tbody>\n",
       "</table>\n",
       "</div>"
      ],
      "text/plain": [
       "               Train_score  Test_score          MAE           MSE         RMSE\n",
       "Random Forest     0.888801    0.888807  2428.323985  1.786634e+07  4226.859529"
      ]
     },
     "execution_count": 37,
     "metadata": {},
     "output_type": "execute_result"
    }
   ],
   "source": [
    "rf=RandomForestRegressor(n_estimators=15,max_depth=7,min_samples_split=22)\n",
    "rf_res=eval_model(rf,x_train,y_train,x_test,y_test,'Random Forest')\n",
    "rf_res\n"
   ]
  },
  {
   "cell_type": "code",
   "execution_count": 38,
   "id": "c2510214",
   "metadata": {},
   "outputs": [
    {
     "data": {
      "text/html": [
       "<div>\n",
       "<style scoped>\n",
       "    .dataframe tbody tr th:only-of-type {\n",
       "        vertical-align: middle;\n",
       "    }\n",
       "\n",
       "    .dataframe tbody tr th {\n",
       "        vertical-align: top;\n",
       "    }\n",
       "\n",
       "    .dataframe thead th {\n",
       "        text-align: right;\n",
       "    }\n",
       "</style>\n",
       "<table border=\"1\" class=\"dataframe\">\n",
       "  <thead>\n",
       "    <tr style=\"text-align: right;\">\n",
       "      <th></th>\n",
       "      <th>Train_score</th>\n",
       "      <th>Test_score</th>\n",
       "      <th>MAE</th>\n",
       "      <th>MSE</th>\n",
       "      <th>RMSE</th>\n",
       "    </tr>\n",
       "  </thead>\n",
       "  <tbody>\n",
       "    <tr>\n",
       "      <th>AdaBoost</th>\n",
       "      <td>0.80826</td>\n",
       "      <td>0.839934</td>\n",
       "      <td>4329.435781</td>\n",
       "      <td>2.571916e+07</td>\n",
       "      <td>5071.405779</td>\n",
       "    </tr>\n",
       "  </tbody>\n",
       "</table>\n",
       "</div>"
      ],
      "text/plain": [
       "          Train_score  Test_score          MAE           MSE         RMSE\n",
       "AdaBoost      0.80826    0.839934  4329.435781  2.571916e+07  5071.405779"
      ]
     },
     "execution_count": 38,
     "metadata": {},
     "output_type": "execute_result"
    }
   ],
   "source": [
    "ada=AdaBoostRegressor(n_estimators=15,random_state=22)\n",
    "ada_res=eval_model(ada,x_train,y_train,x_test,y_test,'AdaBoost')\n",
    "ada_res\n"
   ]
  },
  {
   "cell_type": "code",
   "execution_count": 39,
   "id": "5154e641",
   "metadata": {},
   "outputs": [
    {
     "data": {
      "text/html": [
       "<div>\n",
       "<style scoped>\n",
       "    .dataframe tbody tr th:only-of-type {\n",
       "        vertical-align: middle;\n",
       "    }\n",
       "\n",
       "    .dataframe tbody tr th {\n",
       "        vertical-align: top;\n",
       "    }\n",
       "\n",
       "    .dataframe thead th {\n",
       "        text-align: right;\n",
       "    }\n",
       "</style>\n",
       "<table border=\"1\" class=\"dataframe\">\n",
       "  <thead>\n",
       "    <tr style=\"text-align: right;\">\n",
       "      <th></th>\n",
       "      <th>Train_score</th>\n",
       "      <th>Test_score</th>\n",
       "      <th>MAE</th>\n",
       "      <th>MSE</th>\n",
       "      <th>RMSE</th>\n",
       "    </tr>\n",
       "  </thead>\n",
       "  <tbody>\n",
       "    <tr>\n",
       "      <th>knn</th>\n",
       "      <td>0.24728</td>\n",
       "      <td>0.169833</td>\n",
       "      <td>8374.234803</td>\n",
       "      <td>1.333896e+08</td>\n",
       "      <td>11549.442607</td>\n",
       "    </tr>\n",
       "  </tbody>\n",
       "</table>\n",
       "</div>"
      ],
      "text/plain": [
       "     Train_score  Test_score          MAE           MSE          RMSE\n",
       "knn      0.24728    0.169833  8374.234803  1.333896e+08  11549.442607"
      ]
     },
     "execution_count": 39,
     "metadata": {},
     "output_type": "execute_result"
    }
   ],
   "source": [
    "knn=KNeighborsRegressor(n_neighbors=15)\n",
    "knn_res=eval_model(knn,x_train,y_train,x_test,y_test,'knn')\n",
    "knn_res"
   ]
  },
  {
   "cell_type": "code",
   "execution_count": 40,
   "id": "cb9e20be",
   "metadata": {},
   "outputs": [
    {
     "data": {
      "text/html": [
       "<div>\n",
       "<style scoped>\n",
       "    .dataframe tbody tr th:only-of-type {\n",
       "        vertical-align: middle;\n",
       "    }\n",
       "\n",
       "    .dataframe tbody tr th {\n",
       "        vertical-align: top;\n",
       "    }\n",
       "\n",
       "    .dataframe thead th {\n",
       "        text-align: right;\n",
       "    }\n",
       "</style>\n",
       "<table border=\"1\" class=\"dataframe\">\n",
       "  <thead>\n",
       "    <tr style=\"text-align: right;\">\n",
       "      <th></th>\n",
       "      <th>Train_score</th>\n",
       "      <th>Test_score</th>\n",
       "      <th>MAE</th>\n",
       "      <th>MSE</th>\n",
       "      <th>RMSE</th>\n",
       "    </tr>\n",
       "  </thead>\n",
       "  <tbody>\n",
       "    <tr>\n",
       "      <th>Linear Regression</th>\n",
       "      <td>0.734834</td>\n",
       "      <td>0.808636</td>\n",
       "      <td>3917.704066</td>\n",
       "      <td>3.074808e+07</td>\n",
       "      <td>5545.094702</td>\n",
       "    </tr>\n",
       "    <tr>\n",
       "      <th>Ridge</th>\n",
       "      <td>0.733738</td>\n",
       "      <td>0.802769</td>\n",
       "      <td>4028.522907</td>\n",
       "      <td>3.169067e+07</td>\n",
       "      <td>5629.446833</td>\n",
       "    </tr>\n",
       "    <tr>\n",
       "      <th>Lasso</th>\n",
       "      <td>0.734812</td>\n",
       "      <td>0.808162</td>\n",
       "      <td>3921.273376</td>\n",
       "      <td>3.082420e+07</td>\n",
       "      <td>5551.955041</td>\n",
       "    </tr>\n",
       "    <tr>\n",
       "      <th>Decision Tree</th>\n",
       "      <td>0.888837</td>\n",
       "      <td>0.854613</td>\n",
       "      <td>2737.093416</td>\n",
       "      <td>2.336052e+07</td>\n",
       "      <td>4833.271848</td>\n",
       "    </tr>\n",
       "    <tr>\n",
       "      <th>Random Forest</th>\n",
       "      <td>0.888801</td>\n",
       "      <td>0.888807</td>\n",
       "      <td>2428.323985</td>\n",
       "      <td>1.786634e+07</td>\n",
       "      <td>4226.859529</td>\n",
       "    </tr>\n",
       "    <tr>\n",
       "      <th>AdaBoost</th>\n",
       "      <td>0.808260</td>\n",
       "      <td>0.839934</td>\n",
       "      <td>4329.435781</td>\n",
       "      <td>2.571916e+07</td>\n",
       "      <td>5071.405779</td>\n",
       "    </tr>\n",
       "    <tr>\n",
       "      <th>knn</th>\n",
       "      <td>0.247280</td>\n",
       "      <td>0.169833</td>\n",
       "      <td>8374.234803</td>\n",
       "      <td>1.333896e+08</td>\n",
       "      <td>11549.442607</td>\n",
       "    </tr>\n",
       "  </tbody>\n",
       "</table>\n",
       "</div>"
      ],
      "text/plain": [
       "                   Train_score  Test_score          MAE           MSE   \n",
       "Linear Regression     0.734834    0.808636  3917.704066  3.074808e+07  \\\n",
       "Ridge                 0.733738    0.802769  4028.522907  3.169067e+07   \n",
       "Lasso                 0.734812    0.808162  3921.273376  3.082420e+07   \n",
       "Decision Tree         0.888837    0.854613  2737.093416  2.336052e+07   \n",
       "Random Forest         0.888801    0.888807  2428.323985  1.786634e+07   \n",
       "AdaBoost              0.808260    0.839934  4329.435781  2.571916e+07   \n",
       "knn                   0.247280    0.169833  8374.234803  1.333896e+08   \n",
       "\n",
       "                           RMSE  \n",
       "Linear Regression   5545.094702  \n",
       "Ridge               5629.446833  \n",
       "Lasso               5551.955041  \n",
       "Decision Tree       4833.271848  \n",
       "Random Forest       4226.859529  \n",
       "AdaBoost            5071.405779  \n",
       "knn                11549.442607  "
      ]
     },
     "execution_count": 40,
     "metadata": {},
     "output_type": "execute_result"
    }
   ],
   "source": [
    "mod_con=pd.concat([lr_res,rid_res,las_res,dt_res,rf_res,ada_res,knn_res])\n",
    "mod_con"
   ]
  },
  {
   "cell_type": "markdown",
   "id": "9d036227",
   "metadata": {},
   "source": [
    "#### Model Selection\n",
    "According to,\n",
    "RMSE :Best_model(with min rmse) = RF_reg and DT_reg\n",
    "Minimal overfitting : RF_reg\n"
   ]
  },
  {
   "cell_type": "markdown",
   "id": "de2efee7",
   "metadata": {},
   "source": [
    "#### Save the Model"
   ]
  },
  {
   "cell_type": "code",
   "execution_count": 41,
   "id": "740c5ca0",
   "metadata": {},
   "outputs": [],
   "source": [
    "import pickle"
   ]
  },
  {
   "cell_type": "code",
   "execution_count": 42,
   "id": "15455301",
   "metadata": {},
   "outputs": [],
   "source": [
    "pickle.dump(lr,open('Linear_Regressor1.pkl','wb'))\n",
    "pickle.dump(dt,open('Decision_Tree1.pkl','wb'))\n",
    "pickle.dump(rf,open('Random_Forest1.pkl','wb'))"
   ]
  },
  {
   "cell_type": "code",
   "execution_count": 43,
   "id": "9214e4c8",
   "metadata": {},
   "outputs": [
    {
     "data": {
      "text/html": [
       "<div>\n",
       "<style scoped>\n",
       "    .dataframe tbody tr th:only-of-type {\n",
       "        vertical-align: middle;\n",
       "    }\n",
       "\n",
       "    .dataframe tbody tr th {\n",
       "        vertical-align: top;\n",
       "    }\n",
       "\n",
       "    .dataframe thead th {\n",
       "        text-align: right;\n",
       "    }\n",
       "</style>\n",
       "<table border=\"1\" class=\"dataframe\">\n",
       "  <thead>\n",
       "    <tr style=\"text-align: right;\">\n",
       "      <th></th>\n",
       "      <th>age</th>\n",
       "      <th>sex</th>\n",
       "      <th>bmi</th>\n",
       "      <th>children</th>\n",
       "      <th>smoker</th>\n",
       "      <th>charges</th>\n",
       "      <th>region_northwest</th>\n",
       "      <th>region_southeast</th>\n",
       "      <th>region_southwest</th>\n",
       "    </tr>\n",
       "  </thead>\n",
       "  <tbody>\n",
       "    <tr>\n",
       "      <th>0</th>\n",
       "      <td>19</td>\n",
       "      <td>0</td>\n",
       "      <td>27.900</td>\n",
       "      <td>0</td>\n",
       "      <td>1</td>\n",
       "      <td>16884.92400</td>\n",
       "      <td>False</td>\n",
       "      <td>False</td>\n",
       "      <td>True</td>\n",
       "    </tr>\n",
       "    <tr>\n",
       "      <th>1</th>\n",
       "      <td>18</td>\n",
       "      <td>1</td>\n",
       "      <td>33.770</td>\n",
       "      <td>1</td>\n",
       "      <td>0</td>\n",
       "      <td>1725.55230</td>\n",
       "      <td>False</td>\n",
       "      <td>True</td>\n",
       "      <td>False</td>\n",
       "    </tr>\n",
       "    <tr>\n",
       "      <th>2</th>\n",
       "      <td>28</td>\n",
       "      <td>1</td>\n",
       "      <td>33.000</td>\n",
       "      <td>3</td>\n",
       "      <td>0</td>\n",
       "      <td>4449.46200</td>\n",
       "      <td>False</td>\n",
       "      <td>True</td>\n",
       "      <td>False</td>\n",
       "    </tr>\n",
       "    <tr>\n",
       "      <th>3</th>\n",
       "      <td>33</td>\n",
       "      <td>1</td>\n",
       "      <td>22.705</td>\n",
       "      <td>0</td>\n",
       "      <td>0</td>\n",
       "      <td>21984.47061</td>\n",
       "      <td>True</td>\n",
       "      <td>False</td>\n",
       "      <td>False</td>\n",
       "    </tr>\n",
       "    <tr>\n",
       "      <th>4</th>\n",
       "      <td>32</td>\n",
       "      <td>1</td>\n",
       "      <td>28.880</td>\n",
       "      <td>0</td>\n",
       "      <td>0</td>\n",
       "      <td>3866.85520</td>\n",
       "      <td>True</td>\n",
       "      <td>False</td>\n",
       "      <td>False</td>\n",
       "    </tr>\n",
       "    <tr>\n",
       "      <th>5</th>\n",
       "      <td>31</td>\n",
       "      <td>0</td>\n",
       "      <td>25.740</td>\n",
       "      <td>0</td>\n",
       "      <td>0</td>\n",
       "      <td>3756.62160</td>\n",
       "      <td>False</td>\n",
       "      <td>True</td>\n",
       "      <td>False</td>\n",
       "    </tr>\n",
       "    <tr>\n",
       "      <th>6</th>\n",
       "      <td>46</td>\n",
       "      <td>0</td>\n",
       "      <td>33.440</td>\n",
       "      <td>1</td>\n",
       "      <td>0</td>\n",
       "      <td>8240.58960</td>\n",
       "      <td>False</td>\n",
       "      <td>True</td>\n",
       "      <td>False</td>\n",
       "    </tr>\n",
       "    <tr>\n",
       "      <th>7</th>\n",
       "      <td>37</td>\n",
       "      <td>0</td>\n",
       "      <td>27.740</td>\n",
       "      <td>3</td>\n",
       "      <td>0</td>\n",
       "      <td>7281.50560</td>\n",
       "      <td>True</td>\n",
       "      <td>False</td>\n",
       "      <td>False</td>\n",
       "    </tr>\n",
       "    <tr>\n",
       "      <th>8</th>\n",
       "      <td>37</td>\n",
       "      <td>1</td>\n",
       "      <td>29.830</td>\n",
       "      <td>2</td>\n",
       "      <td>0</td>\n",
       "      <td>6406.41070</td>\n",
       "      <td>False</td>\n",
       "      <td>False</td>\n",
       "      <td>False</td>\n",
       "    </tr>\n",
       "    <tr>\n",
       "      <th>9</th>\n",
       "      <td>60</td>\n",
       "      <td>0</td>\n",
       "      <td>25.840</td>\n",
       "      <td>0</td>\n",
       "      <td>0</td>\n",
       "      <td>28923.13692</td>\n",
       "      <td>True</td>\n",
       "      <td>False</td>\n",
       "      <td>False</td>\n",
       "    </tr>\n",
       "  </tbody>\n",
       "</table>\n",
       "</div>"
      ],
      "text/plain": [
       "   age  sex     bmi  children  smoker      charges  region_northwest   \n",
       "0   19    0  27.900         0       1  16884.92400             False  \\\n",
       "1   18    1  33.770         1       0   1725.55230             False   \n",
       "2   28    1  33.000         3       0   4449.46200             False   \n",
       "3   33    1  22.705         0       0  21984.47061              True   \n",
       "4   32    1  28.880         0       0   3866.85520              True   \n",
       "5   31    0  25.740         0       0   3756.62160             False   \n",
       "6   46    0  33.440         1       0   8240.58960             False   \n",
       "7   37    0  27.740         3       0   7281.50560              True   \n",
       "8   37    1  29.830         2       0   6406.41070             False   \n",
       "9   60    0  25.840         0       0  28923.13692              True   \n",
       "\n",
       "   region_southeast  region_southwest  \n",
       "0             False              True  \n",
       "1              True             False  \n",
       "2              True             False  \n",
       "3             False             False  \n",
       "4             False             False  \n",
       "5              True             False  \n",
       "6              True             False  \n",
       "7             False             False  \n",
       "8             False             False  \n",
       "9             False             False  "
      ]
     },
     "execution_count": 43,
     "metadata": {},
     "output_type": "execute_result"
    }
   ],
   "source": [
    "df_dum.head(10)"
   ]
  },
  {
   "cell_type": "code",
   "execution_count": 44,
   "id": "a256d2b8",
   "metadata": {},
   "outputs": [
    {
     "data": {
      "text/html": [
       "<div>\n",
       "<style scoped>\n",
       "    .dataframe tbody tr th:only-of-type {\n",
       "        vertical-align: middle;\n",
       "    }\n",
       "\n",
       "    .dataframe tbody tr th {\n",
       "        vertical-align: top;\n",
       "    }\n",
       "\n",
       "    .dataframe thead th {\n",
       "        text-align: right;\n",
       "    }\n",
       "</style>\n",
       "<table border=\"1\" class=\"dataframe\">\n",
       "  <thead>\n",
       "    <tr style=\"text-align: right;\">\n",
       "      <th></th>\n",
       "      <th>age</th>\n",
       "      <th>sex</th>\n",
       "      <th>bmi</th>\n",
       "      <th>children</th>\n",
       "      <th>smoker</th>\n",
       "      <th>charges</th>\n",
       "    </tr>\n",
       "  </thead>\n",
       "  <tbody>\n",
       "    <tr>\n",
       "      <th>count</th>\n",
       "      <td>1337.000000</td>\n",
       "      <td>1337.000000</td>\n",
       "      <td>1337.000000</td>\n",
       "      <td>1337.000000</td>\n",
       "      <td>1337.000000</td>\n",
       "      <td>1337.000000</td>\n",
       "    </tr>\n",
       "    <tr>\n",
       "      <th>mean</th>\n",
       "      <td>39.222139</td>\n",
       "      <td>0.504862</td>\n",
       "      <td>30.663452</td>\n",
       "      <td>1.095737</td>\n",
       "      <td>0.204936</td>\n",
       "      <td>13202.810917</td>\n",
       "    </tr>\n",
       "    <tr>\n",
       "      <th>std</th>\n",
       "      <td>14.044333</td>\n",
       "      <td>0.500163</td>\n",
       "      <td>6.100468</td>\n",
       "      <td>1.205571</td>\n",
       "      <td>0.403806</td>\n",
       "      <td>11861.602716</td>\n",
       "    </tr>\n",
       "    <tr>\n",
       "      <th>min</th>\n",
       "      <td>18.000000</td>\n",
       "      <td>0.000000</td>\n",
       "      <td>15.960000</td>\n",
       "      <td>0.000000</td>\n",
       "      <td>0.000000</td>\n",
       "      <td>1252.972730</td>\n",
       "    </tr>\n",
       "    <tr>\n",
       "      <th>25%</th>\n",
       "      <td>27.000000</td>\n",
       "      <td>0.000000</td>\n",
       "      <td>26.290000</td>\n",
       "      <td>0.000000</td>\n",
       "      <td>0.000000</td>\n",
       "      <td>4746.344000</td>\n",
       "    </tr>\n",
       "    <tr>\n",
       "      <th>50%</th>\n",
       "      <td>39.000000</td>\n",
       "      <td>1.000000</td>\n",
       "      <td>30.400000</td>\n",
       "      <td>1.000000</td>\n",
       "      <td>0.000000</td>\n",
       "      <td>9386.161300</td>\n",
       "    </tr>\n",
       "    <tr>\n",
       "      <th>75%</th>\n",
       "      <td>51.000000</td>\n",
       "      <td>1.000000</td>\n",
       "      <td>34.700000</td>\n",
       "      <td>2.000000</td>\n",
       "      <td>0.000000</td>\n",
       "      <td>16657.717450</td>\n",
       "    </tr>\n",
       "    <tr>\n",
       "      <th>max</th>\n",
       "      <td>64.000000</td>\n",
       "      <td>1.000000</td>\n",
       "      <td>53.130000</td>\n",
       "      <td>5.000000</td>\n",
       "      <td>1.000000</td>\n",
       "      <td>46676.000000</td>\n",
       "    </tr>\n",
       "  </tbody>\n",
       "</table>\n",
       "</div>"
      ],
      "text/plain": [
       "               age          sex          bmi     children       smoker   \n",
       "count  1337.000000  1337.000000  1337.000000  1337.000000  1337.000000  \\\n",
       "mean     39.222139     0.504862    30.663452     1.095737     0.204936   \n",
       "std      14.044333     0.500163     6.100468     1.205571     0.403806   \n",
       "min      18.000000     0.000000    15.960000     0.000000     0.000000   \n",
       "25%      27.000000     0.000000    26.290000     0.000000     0.000000   \n",
       "50%      39.000000     1.000000    30.400000     1.000000     0.000000   \n",
       "75%      51.000000     1.000000    34.700000     2.000000     0.000000   \n",
       "max      64.000000     1.000000    53.130000     5.000000     1.000000   \n",
       "\n",
       "            charges  \n",
       "count   1337.000000  \n",
       "mean   13202.810917  \n",
       "std    11861.602716  \n",
       "min     1252.972730  \n",
       "25%     4746.344000  \n",
       "50%     9386.161300  \n",
       "75%    16657.717450  \n",
       "max    46676.000000  "
      ]
     },
     "execution_count": 44,
     "metadata": {},
     "output_type": "execute_result"
    }
   ],
   "source": [
    "df_dum.describe()"
   ]
  }
 ],
 "metadata": {
  "kernelspec": {
   "display_name": "Python 3 (ipykernel)",
   "language": "python",
   "name": "python3"
  },
  "language_info": {
   "codemirror_mode": {
    "name": "ipython",
    "version": 3
   },
   "file_extension": ".py",
   "mimetype": "text/x-python",
   "name": "python",
   "nbconvert_exporter": "python",
   "pygments_lexer": "ipython3",
   "version": "3.11.3"
  }
 },
 "nbformat": 4,
 "nbformat_minor": 5
}
